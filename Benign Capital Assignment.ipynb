{
  "nbformat": 4,
  "nbformat_minor": 0,
  "metadata": {
    "colab": {
      "provenance": [],
      "authorship_tag": "ABX9TyMMrrFgmKERiutdVeoNhv9k",
      "include_colab_link": true
    },
    "kernelspec": {
      "name": "python3",
      "display_name": "Python 3"
    },
    "language_info": {
      "name": "python"
    }
  },
  "cells": [
    {
      "cell_type": "markdown",
      "metadata": {
        "id": "view-in-github",
        "colab_type": "text"
      },
      "source": [
        "<a href=\"https://colab.research.google.com/github/SharadhiVK/code/blob/main/Benign%20Capital%20Assignment.ipynb\" target=\"_parent\"><img src=\"https://colab.research.google.com/assets/colab-badge.svg\" alt=\"Open In Colab\"/></a>"
      ]
    },
    {
      "cell_type": "code",
      "execution_count": 1,
      "metadata": {
        "id": "tGQxV4sC2e3y"
      },
      "outputs": [],
      "source": [
        "import requests\n",
        "import pandas as pd\n",
        "import numpy as np\n"
      ]
    },
    {
      "cell_type": "code",
      "source": [
        "api_key = \"Z89DVHRA61V016LD\"\n",
        "symbol = \"IBM\"\n",
        "interval = \"5min\"\n",
        "\n",
        "url = f\"https://www.alphavantage.co/query?function=TIME_SERIES_INTRADAY&symbol={symbol}&interval={interval}&apikey={api_key}\"\n",
        "\n",
        "response = requests.get(url)\n",
        "data = response.json()\n",
        "\n",
        "# Extract the time series data\n",
        "time_series_data = data[\"Time Series (5min)\"]\n",
        "\n",
        "# Convert the data to a DataFrame\n",
        "df = pd.DataFrame.from_dict(time_series_data, orient=\"index\")\n",
        "df.index = pd.to_datetime(df.index)\n",
        "df.columns = [\"open\", \"high\", \"low\", \"close\", \"volume\"]\n",
        "df = df.astype(float)\n"
      ],
      "metadata": {
        "id": "1_n9MqbR2jMQ"
      },
      "execution_count": 8,
      "outputs": []
    },
    {
      "cell_type": "code",
      "source": [
        "# Calculate Super Trend\n",
        "def calculate_super_trend(df, atr_period, multiplier):\n",
        "    df[\"basic_upper\"] = (df[\"high\"] + df[\"low\"]) / 2 + multiplier * df[\"atr\"]\n",
        "    df[\"basic_lower\"] = (df[\"high\"] + df[\"low\"]) / 2 - multiplier * df[\"atr\"]\n",
        "    df[\"final_upper\"] = np.nan  # Initialize with NaN for the first row\n",
        "    df[\"final_lower\"] = np.nan  # Initialize with NaN for the first row\n",
        "\n",
        "    for i in range(1, len(df)):\n",
        "        if df.iloc[i - 1][\"close\"] <= df.iloc[i - 1][\"final_upper\"]:\n",
        "            df.at[df.index[i], \"final_upper\"] = min(df.iloc[i - 1][\"basic_upper\"], df.iloc[i - 1][\"final_upper\"])\n",
        "        else:\n",
        "            df.at[df.index[i], \"final_upper\"] = df.iloc[i - 1][\"basic_upper\"]\n",
        "\n",
        "        if df.iloc[i - 1][\"close\"] >= df.iloc[i - 1][\"final_lower\"]:\n",
        "            df.at[df.index[i], \"final_lower\"] = max(df.iloc[i - 1][\"basic_lower\"], df.iloc[i - 1][\"final_lower\"])\n",
        "        else:\n",
        "            df.at[df.index[i], \"final_lower\"] = df.iloc[i - 1][\"basic_lower\"]\n",
        "\n",
        "calculate_super_trend(df, atr_period=7, multiplier=3)\n",
        "\n",
        "# Display the DataFrame with Super Trend values\n",
        "print(df[[\"close\", \"final_upper\", \"final_lower\"]])\n"
      ],
      "metadata": {
        "colab": {
          "base_uri": "https://localhost:8080/"
        },
        "id": "9EbLutrq3v87",
        "outputId": "28185146-acc2-46f7-8766-3bf572229809"
      },
      "execution_count": 12,
      "outputs": [
        {
          "output_type": "stream",
          "name": "stdout",
          "text": [
            "                       close  final_upper  final_lower\n",
            "2023-09-06 19:55:00  147.820          NaN          NaN\n",
            "2023-09-06 19:50:00  147.900          NaN          NaN\n",
            "2023-09-06 19:45:00  147.840          NaN          NaN\n",
            "2023-09-06 19:40:00  147.850          NaN          NaN\n",
            "2023-09-06 19:25:00  147.820          NaN          NaN\n",
            "...                      ...          ...          ...\n",
            "2023-09-06 10:15:00  148.090   148.353571   147.631143\n",
            "2023-09-06 10:10:00  148.100   148.353571   147.631143\n",
            "2023-09-06 10:05:00  147.990   148.353571   147.631143\n",
            "2023-09-06 10:00:00  147.865   148.353571   147.631143\n",
            "2023-09-06 09:55:00  147.990   148.353571   147.631143\n",
            "\n",
            "[100 rows x 3 columns]\n"
          ]
        }
      ]
    }
  ]
}